{
 "cells": [
  {
   "cell_type": "markdown",
   "metadata": {},
   "source": [
    "# Project Proposal: Single-game Elo predictor for Chess\n",
    "\n",
    "Tyler Mark Ahlstrom; April 2018"
   ]
  },
  {
   "cell_type": "markdown",
   "metadata": {},
   "source": [
    "## Abstract\n",
    "\n",
    "I propose improving the current ranking and matchmaking systems used in many online games by enabling stronger early estimates of player skill. Using a deep learning model trained on millions of engine-analyzed game performances, an approximate skill rating can be obtained for a player after only a single game. This project would focus on chess, although the approach is more general. \n"
   ]
  },
  {
   "cell_type": "markdown",
   "metadata": {},
   "source": [
    "## Overview"
   ]
  },
  {
   "cell_type": "markdown",
   "metadata": {},
   "source": [
    "### The problem being addressed:"
   ]
  },
  {
   "cell_type": "markdown",
   "metadata": {},
   "source": [
    "Current ranking and matchmaking systems for online games are based on the classic Elo system or one of its many variants. These systems are all results-focused in that they care about who wins, but not *how* the game was played. While these systems eventually have very strong estimates of player skill, they are slow to achieve these estimates. This has the effect that players on new accounts often have to (or in the case of ’smurfing’, *get to*) play many games against players of much higher or lower skill before they are matched with opponents of similar skill. This existence of this problem is corroborated by the stronger dependence between win-rate and rating for games with fewer accounts (fig. 1 below). To deal with this problem, companies have various strategies, such as limiting the number of accounts a user can create, or forcing players to play several ‘placement’ games before giving them a rating at all. These strategies all have notable downsides. "
   ]
  },
  {
   "cell_type": "code",
   "execution_count": null,
   "metadata": {},
   "outputs": [],
   "source": []
  },
  {
   "cell_type": "markdown",
   "metadata": {},
   "source": [
    "### How I propose to address it:"
   ]
  },
  {
   "cell_type": "markdown",
   "metadata": {},
   "source": [
    "I propose an alternative approach. Engines have been developed for many games that are capable of evaluating the merit of decisions made within the game. By processing games with these engines, more information is generated that should be useful for establishing a skill rating: for a given game, you may only win or lose once, but you make many decisions of various merit. A ML model trained on this engine-generated information should be able to approximate player skill ratings much more quickly than systems based only on win/loss data. "
   ]
  },
  {
   "cell_type": "code",
   "execution_count": null,
   "metadata": {},
   "outputs": [],
   "source": []
  }
 ],
 "metadata": {
  "kernelspec": {
   "display_name": "Python 3",
   "language": "python",
   "name": "python3"
  },
  "language_info": {
   "codemirror_mode": {
    "name": "ipython",
    "version": 3
   },
   "file_extension": ".py",
   "mimetype": "text/x-python",
   "name": "python",
   "nbconvert_exporter": "python",
   "pygments_lexer": "ipython3",
   "version": "3.6.4"
  }
 },
 "nbformat": 4,
 "nbformat_minor": 2
}
