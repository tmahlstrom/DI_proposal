{
 "cells": [
  {
   "cell_type": "code",
   "execution_count": null,
   "metadata": {},
   "outputs": [],
   "source": [
    "import chess\n",
    "import chess.uci\n",
    "import chess.pgn\n",
    "import os\n",
    "import csv\n",
    "import matplotlib.pyplot as plt\n",
    "from numpy import array\n",
    "import numpy as np\n",
    "import math\n",
    "import time \n"
   ]
  },
  {
   "cell_type": "code",
   "execution_count": null,
   "metadata": {},
   "outputs": [],
   "source": [
    "#fileDir = os.path.dirname(os.path.realpath('__file__'))\n",
    "pgns_all_path = \"/Users/tylerahlstrom/Documents/GitHub/DI_Proposal/data/lichess_db_standard_rated_2017-03.pgn\"\n",
    "#abs_file_path = os.path.join(fileDir, rel_path)\n",
    "#pngs = open(abs_file_path, 'r')\n",
    "\n",
    "pgns = open(pgns_all_path)\n",
    "\n",
    "\n",
    "writing_path = \"/Users/tylerahlstrom/Documents/GitHub/DI_Proposal/data/stockfish_performances_threeseconds.txt\"\n",
    "stockfish_performances = open(writing_path, 'a')\n"
   ]
  },
  {
   "cell_type": "code",
   "execution_count": null,
   "metadata": {},
   "outputs": [],
   "source": [
    "handler = chess.uci.InfoHandler()\n",
    "engine = chess.uci.popen_engine(\"/Applications/Stockfish/src/stockfish\")\n",
    "engine.info_handlers.append(handler)"
   ]
  },
  {
   "cell_type": "code",
   "execution_count": null,
   "metadata": {},
   "outputs": [],
   "source": [
    "evaltime = 3000 #ms\n",
    "#evaluation = engine.go(movetime=evaltime)"
   ]
  },
  {
   "cell_type": "code",
   "execution_count": null,
   "metadata": {},
   "outputs": [],
   "source": [
    "def check_elos(game):\n",
    "    print(\"white elo: \" + game.headers[\"WhiteElo\"])\n",
    "    print(\"black elo: \" + game.headers[\"BlackElo\"])"
   ]
  },
  {
   "cell_type": "code",
   "execution_count": null,
   "metadata": {},
   "outputs": [],
   "source": [
    "def get_performances(game): \n",
    "    handler = chess.uci.InfoHandler()\n",
    "    engine = chess.uci.popen_engine(\"/Applications/Stockfish/src/stockfish\")\n",
    "    engine.info_handlers.append(handler)\n",
    "    \n",
    "    board = game.board()\n",
    "\n",
    "    score = 0\n",
    "    prev_score = 0\n",
    "    \n",
    "    wp = []\n",
    "    bp = []\n",
    "    evals = []\n",
    "    wp.append(game.headers[\"WhiteElo\"])\n",
    "    bp.append(game.headers[\"BlackElo\"])\n",
    "    \n",
    "    wp.append(game.headers[\"ECO\"])\n",
    "    bp.append(game.headers[\"ECO\"])\n",
    "\n",
    "    evaluation = engine.go(movetime=evaltime)\n",
    "    time.sleep(evaltime/1000)\n",
    "    score = handler.info[\"score\"][1].cp\n",
    "    evals.append(score)\n",
    "\n",
    "    move_count = 0\n",
    "    prev_score = score\n",
    "    \n",
    "#     print(\"Beginning game with score: \" + str(prev_score))\n",
    "    \n",
    "    for move in game.main_line():\n",
    "        board.push(move)\n",
    "        engine.position(board)\n",
    "        move_count += 1\n",
    "        evaluation = engine.go(movetime=evaltime)\n",
    "        time.sleep(evaltime/1000)\n",
    "\n",
    "        score = handler.info[\"score\"][1].cp\n",
    "        if score is None:\n",
    "#             print(\"Finishing game...\")\n",
    "            break\n",
    "        if move_count % 2 == 1:\n",
    "            score = -score\n",
    "        evals.append(score)\n",
    "        dif = score - prev_score\n",
    "        # print(\"dif calculated as: \" + str(score) + \" minus \" + str(prev_score))\n",
    "        # performance.append(\"%.2f\" % dif)\n",
    "        if move_count % 2 == 1:\n",
    "            wp.append(\"%.2f\" % dif)\n",
    "        elif move_count % 2 == 0:\n",
    "            bp.append(\"%.2f\" % -dif)\n",
    "        prev_score = score\n",
    "\n",
    "#     print(wp)\n",
    "#     print(bp)\n",
    "    return [wp, bp]"
   ]
  },
  {
   "cell_type": "code",
   "execution_count": null,
   "metadata": {},
   "outputs": [],
   "source": [
    "def skip_to_game(pgn_file, game_num):\n",
    "\n",
    "    offsets = chess.pgn.scan_offsets(pgn_file)\n",
    "    for i in range(game_num):\n",
    "        book_mark = next(offsets)\n",
    "        if i == (game_num - 1):\n",
    "            pgn_file.seek(book_mark)\n",
    "    #return pgn_file\n",
    "# first_game_offset = next(offsets)\n",
    "# second_game_offset = next(offsets)\n",
    "\n",
    "\n",
    "\n",
    "\n"
   ]
  },
  {
   "cell_type": "code",
   "execution_count": null,
   "metadata": {},
   "outputs": [],
   "source": [
    "pgns = open(pgns_all_path)\n",
    "skip_to_game(pgns, 604)\n",
    "\n",
    "\n",
    "\n",
    "for i in range(1):\n",
    "    game = chess.pgn.read_game(pgns)\n",
    "    check_elos(game)\n",
    "    \n",
    "\n",
    "    "
   ]
  },
  {
   "cell_type": "code",
   "execution_count": null,
   "metadata": {
    "scrolled": true
   },
   "outputs": [],
   "source": [
    "starting_position = 720\n",
    "\n",
    "for i in range(200):\n",
    "    \n",
    "    #pgns = open(pgns_all_path)\n",
    "\n",
    "    with open(pgns_all_path) as pgns:\n",
    "        skip_to_game(pgns, starting_position + i)\n",
    "\n",
    "        game = chess.pgn.read_game(pgns)\n",
    "        performances = get_performances(game)\n",
    "    \n",
    "        for p in performances:\n",
    "            stockfish_performances.write(str(p) + \"\\n\")\n",
    "        stockfish_performances.flush()\n",
    "    \n",
    "        print(\"Finished game: \" + str(i + starting_position))\n"
   ]
  },
  {
   "cell_type": "code",
   "execution_count": null,
   "metadata": {},
   "outputs": [],
   "source": []
  },
  {
   "cell_type": "code",
   "execution_count": null,
   "metadata": {},
   "outputs": [],
   "source": [
    "import psutil\n",
    "\n"
   ]
  },
  {
   "cell_type": "code",
   "execution_count": null,
   "metadata": {},
   "outputs": [],
   "source": [
    "for proc in psutil.process_iter():\n",
    "    print proc.open_files()"
   ]
  },
  {
   "cell_type": "code",
   "execution_count": null,
   "metadata": {},
   "outputs": [],
   "source": []
  },
  {
   "cell_type": "code",
   "execution_count": null,
   "metadata": {},
   "outputs": [],
   "source": []
  },
  {
   "cell_type": "code",
   "execution_count": null,
   "metadata": {},
   "outputs": [],
   "source": []
  },
  {
   "cell_type": "code",
   "execution_count": null,
   "metadata": {
    "scrolled": true
   },
   "outputs": [],
   "source": []
  },
  {
   "cell_type": "code",
   "execution_count": null,
   "metadata": {},
   "outputs": [],
   "source": []
  },
  {
   "cell_type": "code",
   "execution_count": null,
   "metadata": {},
   "outputs": [],
   "source": [
    "\n",
    "\n",
    "elo_and_performance = []\n",
    "for i in xrange(1):\n",
    "    pw = []\n",
    "    pb = []\n",
    "    current_game = chess.pgn.read_game(pgns)\n",
    "    try:\n",
    "        pw.append(float(current_game.headers[\"WhiteElo\"]))\n",
    "    except:\n",
    "        pw.append(0.0)\n",
    "    try:\n",
    "        pb.append(float(current_game.headers[\"BlackElo\"]))\n",
    "    except:\n",
    "        pb.append(0.0)\n",
    "    try:\n",
    "        pw.append(float(evals[i][0]))\n",
    "    except:\n",
    "        pw.append(0.0) \n",
    "    for j in xrange (len(evals[i])):\n",
    "        if j == 0:\n",
    "            continue\n",
    "        try:\n",
    "            move_value = float(evals[i][j]) - float(evals[i][j-1])\n",
    "        except:\n",
    "            move_value = 0.0\n",
    "        if j % 2 != 0: \n",
    "            pb.append(-move_value)\n",
    "        else:\n",
    "            pw.append(move_value)\n",
    "    elo_and_performance.append(pw)\n",
    "    elo_and_performance.append(pb)\n",
    "\n",
    "elo_and_performance = array(elo_and_performance)\n",
    "\n",
    "print(elo_and_performance)\n"
   ]
  },
  {
   "cell_type": "code",
   "execution_count": null,
   "metadata": {},
   "outputs": [],
   "source": [
    "\n",
    "\n",
    "print 'best move: ', board.san(evaluation[0])\n",
    "print 'evaluation value: ', handler.info[\"score\"][1].cp/100.0\n",
    "print 'Corresponding line: ', board.variation_san(handler.info[\"pv\"][1])"
   ]
  }
 ],
 "metadata": {
  "kernelspec": {
   "display_name": "Python 3",
   "language": "python",
   "name": "python3"
  },
  "language_info": {
   "codemirror_mode": {
    "name": "ipython",
    "version": 3
   },
   "file_extension": ".py",
   "mimetype": "text/x-python",
   "name": "python",
   "nbconvert_exporter": "python",
   "pygments_lexer": "ipython3",
   "version": "3.6.4"
  }
 },
 "nbformat": 4,
 "nbformat_minor": 2
}
