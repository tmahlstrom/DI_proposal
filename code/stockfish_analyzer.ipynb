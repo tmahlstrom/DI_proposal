{
 "cells": [
  {
   "cell_type": "code",
   "execution_count": 1,
   "metadata": {},
   "outputs": [],
   "source": [
    "import chess\n",
    "import chess.uci\n",
    "import chess.pgn\n",
    "import os\n",
    "import csv\n",
    "import matplotlib.pyplot as plt\n",
    "from numpy import array\n",
    "import numpy as np\n",
    "import math\n",
    "import time\n",
    "from multiprocessing import Pool\n",
    "import psutil\n"
   ]
  },
  {
   "cell_type": "code",
   "execution_count": 2,
   "metadata": {},
   "outputs": [],
   "source": [
    "\n",
    "\n",
    "# writing_file = open(writing_path, \"a\")\n",
    "# writer = csv.DictWriter(writing_file, fieldnames=csv_columns)\n",
    "#writer = csv.writer(myfile)\n",
    "\n",
    "#stockfish_performances = open(writing_path, 'a')\n"
   ]
  },
  {
   "cell_type": "code",
   "execution_count": 3,
   "metadata": {},
   "outputs": [],
   "source": [
    "def write_dict_to_csv(csv_file, csv_columns, dict):\n",
    "    with open(csv_file, 'a') as csvfile:\n",
    "        writer = csv.DictWriter(csvfile, fieldnames=csv_columns)\n",
    "        #writer.writeheader()\n",
    "        #for data in dict_data:\n",
    "        writer.writerow(dict)\n",
    "    return "
   ]
  },
  {
   "cell_type": "code",
   "execution_count": 4,
   "metadata": {},
   "outputs": [],
   "source": [
    "handler = chess.uci.InfoHandler()\n",
    "engine = chess.uci.popen_engine(\"/Applications/Stockfish/src/stockfish\")\n",
    "engine.info_handlers.append(handler)"
   ]
  },
  {
   "cell_type": "code",
   "execution_count": 5,
   "metadata": {},
   "outputs": [],
   "source": [
    "EVALTIME = 1000 #ms\n"
   ]
  },
  {
   "cell_type": "code",
   "execution_count": 6,
   "metadata": {},
   "outputs": [],
   "source": [
    "def check_elos(game):\n",
    "    print(\"white elo: \" + game.headers[\"WhiteElo\"])\n",
    "    print(\"black elo: \" + game.headers[\"BlackElo\"])"
   ]
  },
  {
   "cell_type": "code",
   "execution_count": 7,
   "metadata": {},
   "outputs": [],
   "source": [
    "def get_performance_dicts(game): \n",
    "    handler = chess.uci.InfoHandler()\n",
    "    engine = chess.uci.popen_engine(\"/Applications/Stockfish/src/stockfish\")\n",
    "    engine.info_handlers.append(handler)\n",
    "    \n",
    "    board = game.board()\n",
    "\n",
    "    score = 0\n",
    "    prev_score = 0\n",
    "    wp = {}\n",
    "    bp = {}\n",
    "    evals = []\n",
    "    \n",
    "    \n",
    "    #wp.append(game.headers[\"WhiteElo\"])\n",
    "    #bp.append(game.headers[\"BlackElo\"])\n",
    "    wp[\"elo\"] = game.headers[\"WhiteElo\"]\n",
    "    wp[\"opp_elo\"] = game.headers[\"BlackElo\"]\n",
    "\n",
    "    bp[\"elo\"] = game.headers[\"BlackElo\"]\n",
    "    bp[\"opp_elo\"] = game.headers[\"WhiteElo\"]\n",
    "    \n",
    "    \n",
    "    result = game.headers[\"Result\"]\n",
    "    r1, r2 = interpret_result(result)\n",
    "    \n",
    "#     wp.append(r1)\n",
    "#     bp.append(r2)\n",
    "    wp[\"result\"] = r1\n",
    "    bp[\"result\"] = r2\n",
    "    \n",
    "#     wp.append(game.headers[\"ECO\"])\n",
    "#     bp.append(game.headers[\"ECO\"])\n",
    "\n",
    "    wp[\"opening\"] = game.headers[\"ECO\"]\n",
    "    bp[\"opening\"] = game.headers[\"ECO\"]\n",
    "\n",
    "    wp[\"eval_time\"] = EVALTIME/1000\n",
    "    bp[\"eval_time\"] = EVALTIME/1000\n",
    " \n",
    "    \n",
    "    evaluation = engine.go(movetime=EVALTIME)\n",
    "    #time.sleep(EVALTIME/1000)\n",
    "    score = handler.info[\"score\"][1].cp\n",
    "    evals.append(score)\n",
    "\n",
    "    move_count = 0\n",
    "    prev_score = score\n",
    "    \n",
    "#     print(\"Beginning game with score: \" + str(prev_score))\n",
    "    \n",
    "    wp_moves = []\n",
    "    bp_moves = []\n",
    "    \n",
    "    for move in game.main_line():\n",
    "        board.push(move)\n",
    "        engine.position(board)\n",
    "        move_count += 1\n",
    "        evaluation = engine.go(movetime=EVALTIME)\n",
    "        #time.sleep(EVALTIME/1000)\n",
    "\n",
    "        score = handler.info[\"score\"][1].cp\n",
    "        if score is None:\n",
    "#             print(\"Finishing game...\")\n",
    "            break\n",
    "        if move_count % 2 == 1:\n",
    "            score = -score\n",
    "        evals.append(score)\n",
    "        dif = score - prev_score\n",
    "        # print(\"dif calculated as: \" + str(score) + \" minus \" + str(prev_score))\n",
    "        # performance.append(\"%.2f\" % dif)\n",
    "        if move_count % 2 == 1:\n",
    "            wp_moves.append(\"%.2f\" % dif)\n",
    "        elif move_count % 2 == 0:\n",
    "            bp_moves.append(\"%.2f\" % -dif)\n",
    "        prev_score = score\n",
    "\n",
    "    wp[\"move_evals\"] = wp_moves\n",
    "    wp[\"opp_move_evals\"] = bp_moves\n",
    "    \n",
    "    bp[\"move_evals\"] = bp_moves\n",
    "    bp[\"opp_move_evals\"] = wp_moves\n",
    "\n",
    "#     print(wp)\n",
    "#     print(bp)\n",
    "    return wp, bp"
   ]
  },
  {
   "cell_type": "code",
   "execution_count": 8,
   "metadata": {},
   "outputs": [],
   "source": [
    "def interpret_result(result):\n",
    "    r1 = -1.0\n",
    "    r2 = -1.0\n",
    "    if len(result) == 3:\n",
    "        r1 = float(result[0])\n",
    "        r2 = float(result[2])\n",
    "    if len(result) == 7:\n",
    "        r1 = 0.5\n",
    "        r2 = 0.5\n",
    "    assert r1 != -1.0, \"Bad result detected\"\n",
    "    assert r2 != -1.0, \"Bad result detected\"\n",
    "\n",
    "    return r1, r2"
   ]
  },
  {
   "cell_type": "code",
   "execution_count": 9,
   "metadata": {},
   "outputs": [],
   "source": [
    "def skip_to_game(pgn_file, game_num):\n",
    "\n",
    "    offsets = chess.pgn.scan_offsets(pgn_file)\n",
    "    for i in range(game_num):\n",
    "        book_mark = next(offsets)\n",
    "        if i == (game_num - 1):\n",
    "            pgn_file.seek(book_mark)\n",
    "    #return pgn_file\n",
    "# first_game_offset = next(offsets)\n",
    "# second_game_offset = next(offsets)\n",
    "\n",
    "\n",
    "\n",
    "\n"
   ]
  },
  {
   "cell_type": "code",
   "execution_count": null,
   "metadata": {},
   "outputs": [],
   "source": []
  },
  {
   "cell_type": "code",
   "execution_count": 10,
   "metadata": {
    "scrolled": true
   },
   "outputs": [],
   "source": [
    "def evaluate_game(game):\n",
    "#     starting_position = 0\n",
    "#     with open(pgns_all_path) as pgns:\n",
    "#         skip_to_game(pgns, starting_position + i)\n",
    "    \n",
    "#     for i in range(amount):\n",
    "\n",
    "#         #pgns = open(pgns_all_path)\n",
    "\n",
    "#         game = chess.pgn.read_game(pgns)\n",
    "    performances = get_performance_dicts(game)\n",
    "    for performance_dict in performances:\n",
    "        write_dict_to_csv(writing_file, csv_columns, performance_dict)\n",
    "\n",
    "    #return p1, p2\n",
    "#         for p in performances:\n",
    "#             #with open('dict.csv', 'wb') as csv_file:\n",
    "#             for key, value in performances:\n",
    "#                 WriteDictToCSV(writing_file, csv_columns, dict_data)\n",
    "#                 stockfish_performances.writerow([key, value])\n",
    "#         #stockfish_performances.write(str(p) + \"\\n\")\n",
    "#         stockfish_performances.flush()\n",
    "#         print(\"Finished a game\")\n"
   ]
  },
  {
   "cell_type": "code",
   "execution_count": null,
   "metadata": {},
   "outputs": [
    {
     "name": "stdout",
     "output_type": "stream",
     "text": [
      "Performances evaluated: 40\n",
      "Performances evaluated: 80\n",
      "Performances evaluated: 120\n",
      "Performances evaluated: 160\n",
      "Performances evaluated: 200\n",
      "Performances evaluated: 240\n",
      "Performances evaluated: 280\n",
      "Performances evaluated: 320\n",
      "Performances evaluated: 360\n"
     ]
    }
   ],
   "source": [
    "writing_file = \"/Users/tylerahlstrom/Documents/GitHub/DI_Proposal/data/stockfish_performances_onesecond.csv\"\n",
    "csv_columns = ['elo','opp_elo','opening', 'result', 'eval_time', 'move_evals', 'opp_move_evals']\n",
    "\n",
    "pgns_all_path = \"/Users/tylerahlstrom/Documents/GitHub/DI_Proposal/data/lichess_db_standard_rated_2017-03.pgn\"\n",
    "pgns = open(pgns_all_path)\n",
    "\n",
    "progress_count = 0\n",
    "starting_game = 0\n",
    "batch_size = 20\n",
    "num_batches = 500\n",
    "\n",
    "with open(writing_file, 'a') as csvfile:\n",
    "    if os.stat(writing_file).st_size == 0:\n",
    "        writer = csv.DictWriter(csvfile, fieldnames=csv_columns)\n",
    "        writer.writeheader()\n",
    "\n",
    "if starting_game > 0:\n",
    "    skip_to_game(pgns, starting_game)\n",
    "\n",
    "if __name__ == '__main__':\n",
    "    \n",
    "    \n",
    "    for i in range (num_batches):\n",
    "        raw_games = []\n",
    "        for j in range(batch_size):\n",
    "            pgn = chess.pgn.read_game(pgns)\n",
    "            raw_games.append(pgn)\n",
    "        pool = Pool(8)\n",
    "        pool.map(evaluate_game,raw_games)\n",
    "        progress_count += batch_size * 2\n",
    "        print(\"Performances evaluated: \" + str(progress_count))\n",
    "        os.system('pkill stockfish')"
   ]
  },
  {
   "cell_type": "code",
   "execution_count": null,
   "metadata": {
    "scrolled": true
   },
   "outputs": [],
   "source": []
  }
 ],
 "metadata": {
  "kernelspec": {
   "display_name": "Python 3",
   "language": "python",
   "name": "python3"
  },
  "language_info": {
   "codemirror_mode": {
    "name": "ipython",
    "version": 3
   },
   "file_extension": ".py",
   "mimetype": "text/x-python",
   "name": "python",
   "nbconvert_exporter": "python",
   "pygments_lexer": "ipython3",
   "version": "3.6.4"
  }
 },
 "nbformat": 4,
 "nbformat_minor": 2
}
