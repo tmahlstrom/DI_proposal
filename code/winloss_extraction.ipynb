{
 "cells": [
  {
   "cell_type": "code",
   "execution_count": 10,
   "metadata": {},
   "outputs": [],
   "source": [
    "import chess\n",
    "import chess.uci\n",
    "import chess.pgn\n",
    "import os\n",
    "import csv\n",
    "import matplotlib.pyplot as plt\n",
    "from numpy import array\n",
    "import numpy as np\n",
    "import math\n",
    "import time \n"
   ]
  },
  {
   "cell_type": "code",
   "execution_count": 11,
   "metadata": {},
   "outputs": [],
   "source": [
    "pgns_all_path = \"/Users/tylerahlstrom/Documents/GitHub/DI_Proposal/data/lichess_db_standard_rated_2017-03.pgn\"\n",
    "pgns = open(pgns_all_path)\n",
    "\n",
    "writing_path = \"/Users/tylerahlstrom/Documents/GitHub/DI_Proposal/data/winloss.txt\"\n",
    "win_loss_file = open(writing_path, 'a')"
   ]
  },
  {
   "cell_type": "code",
   "execution_count": 12,
   "metadata": {},
   "outputs": [],
   "source": [
    "def interpret_result(result):\n",
    "    r1 = -1.0\n",
    "    r2 = -1.0\n",
    "    if len(result) == 3:\n",
    "        r1 = float(result[0])\n",
    "        r2 = float(result[2])\n",
    "    if len(result) == 7:\n",
    "        r1 = 0.5\n",
    "        r2 = 0.5\n",
    "    assert r1 != -1.0, \"Bad result detected\"\n",
    "    assert r2 != -1.0, \"Bad result detected\"\n",
    "\n",
    "    return r1, r2"
   ]
  },
  {
   "cell_type": "code",
   "execution_count": 13,
   "metadata": {},
   "outputs": [],
   "source": [
    "def skip_to_game(pgn_file, game_num):\n",
    "\n",
    "    offsets = chess.pgn.scan_offsets(pgn_file)\n",
    "    for i in range(game_num):\n",
    "        book_mark = next(offsets)\n",
    "        if i == (game_num - 1):\n",
    "            pgn_file.seek(book_mark)"
   ]
  },
  {
   "cell_type": "code",
   "execution_count": 14,
   "metadata": {},
   "outputs": [],
   "source": [
    "pgns = open(pgns_all_path)\n",
    "#skip_to_game(pgns, 0)\n",
    "\n",
    "\n",
    "for i in range(1000):\n",
    "    game = chess.pgn.read_game(pgns)\n",
    "    result = game.headers[\"Result\"]\n",
    "    r1, r2 = interpret_result(result)\n",
    "    win_loss_file.write(str(r1) + \"\\n\")\n",
    "    win_loss_file.write(str(r2) + \"\\n\")\n",
    "win_loss_file.flush()"
   ]
  },
  {
   "cell_type": "code",
   "execution_count": null,
   "metadata": {},
   "outputs": [],
   "source": []
  },
  {
   "cell_type": "code",
   "execution_count": null,
   "metadata": {},
   "outputs": [],
   "source": []
  }
 ],
 "metadata": {
  "kernelspec": {
   "display_name": "Python 3",
   "language": "python",
   "name": "python3"
  },
  "language_info": {
   "codemirror_mode": {
    "name": "ipython",
    "version": 3
   },
   "file_extension": ".py",
   "mimetype": "text/x-python",
   "name": "python",
   "nbconvert_exporter": "python",
   "pygments_lexer": "ipython3",
   "version": "3.6.4"
  }
 },
 "nbformat": 4,
 "nbformat_minor": 2
}
