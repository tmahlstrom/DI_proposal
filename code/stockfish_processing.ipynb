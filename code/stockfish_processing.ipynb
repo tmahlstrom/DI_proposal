{
 "cells": [
  {
   "cell_type": "code",
   "execution_count": null,
   "metadata": {},
   "outputs": [],
   "source": [
    "import chess\n",
    "import chess.uci\n",
    "import chess.pgn\n",
    "import os\n",
    "import csv\n",
    "import matplotlib.pyplot as plt\n",
    "from numpy import array\n",
    "import numpy as np\n",
    "import math"
   ]
  },
  {
   "cell_type": "code",
   "execution_count": null,
   "metadata": {},
   "outputs": [],
   "source": [
    "handler = chess.uci.InfoHandler()\n",
    "engine = chess.uci.popen_engine(\"/Users/tylerahlstrom/Stockfish/src/Stockfish\")\n",
    "engine.info_handlers.append(handler)"
   ]
  },
  {
   "cell_type": "code",
   "execution_count": null,
   "metadata": {},
   "outputs": [],
   "source": [
    "# engine.uci()\n",
    "engine.position(board)\n"
   ]
  },
  {
   "cell_type": "code",
   "execution_count": null,
   "metadata": {},
   "outputs": [],
   "source": [
    "evaltime = 3000 #so 3 seconds\n",
    "evaluation = engine.go(movetime=evaltime)\n"
   ]
  },
  {
   "cell_type": "code",
   "execution_count": null,
   "metadata": {},
   "outputs": [],
   "source": [
    "print (board.san(evaluation[0]))\n",
    "print (handler.info[\"score\"][1].cp/100.0)\n",
    "print (board.variation_san(handler.info[\"pv\"][1]))"
   ]
  },
  {
   "cell_type": "code",
   "execution_count": null,
   "metadata": {},
   "outputs": [],
   "source": [
    "performance = []\n",
    "performance.append(current_game.headers[\"WhiteElo\"])\n",
    "performance.append(current_game.headers[\"BlackElo\"])\n",
    "evaluation = engine.go(movetime=evaltime)\n",
    "score = handler.info[\"score\"][1].cp/100.0\n",
    "prev_score = score\n",
    "for move in current_game.main_line():\n",
    "    board.push(move)\n",
    "    engine.position(board)\n",
    "    evaluation = engine.go(movetime=evaltime)\n",
    "    score = handler.info[\"score\"][1].cp/100.0\n",
    "    dif = prev_score - score\n",
    "    #performance.append(\"%.2f\" % dif)\n",
    "    performance.append(score)\n",
    "    prev_score = score\n",
    "    print (performance)"
   ]
  },
  {
   "cell_type": "code",
   "execution_count": null,
   "metadata": {},
   "outputs": [],
   "source": [
    "performance = []\n",
    "performance.append(current_game.headers[\"WhiteElo\"])\n",
    "performance.append(current_game.headers[\"BlackElo\"])\n",
    "\n",
    "engine.go(movetime=evaltime)\n",
    "evaluation = handler.info[\"score\"][1].cp/100.0\n",
    "prev_eval = evaluation\n",
    "for move in current_game.main_line():\n",
    "    board.push(move)\n",
    "    engine.position(board)\n",
    "    engine.go(movetime=evaltime)\n",
    "    evaluation = handler.info[\"score\"][1].cp/100.0\n",
    "    \n",
    "    print 'evaluation value: ', handler.info[\"score\"][1].cp/100.0"
   ]
  }
 ],
 "metadata": {
  "kernelspec": {
   "display_name": "Python 3",
   "language": "python",
   "name": "python3"
  },
  "language_info": {
   "codemirror_mode": {
    "name": "ipython",
    "version": 3
   },
   "file_extension": ".py",
   "mimetype": "text/x-python",
   "name": "python",
   "nbconvert_exporter": "python",
   "pygments_lexer": "ipython3",
   "version": "3.6.4"
  }
 },
 "nbformat": 4,
 "nbformat_minor": 2
}
