{
 "cells": [
  {
   "cell_type": "code",
   "execution_count": 2,
   "metadata": {},
   "outputs": [],
   "source": [
    "import chess\n",
    "import chess.uci\n",
    "import chess.pgn\n",
    "import os\n",
    "import csv\n",
    "import matplotlib.pyplot as plt\n",
    "from numpy import array\n",
    "import numpy as np\n",
    "import math"
   ]
  },
  {
   "cell_type": "code",
   "execution_count": 3,
   "metadata": {},
   "outputs": [
    {
     "data": {
      "text/plain": [
       "['MoveScores']"
      ]
     },
     "execution_count": 3,
     "metadata": {},
     "output_type": "execute_result"
    }
   ],
   "source": [
    "game_data_path = \"data/game_data.pgn\"\n",
    "eval_csv_path = \"data/stockfish_evals.csv\"\n",
    "\n",
    "pgns = open(game_data_path)\n",
    "eval_csv = open(eval_csv_path)\n",
    "\n",
    "sf_evals_csv = csv.reader(eval_csv, delimiter=',')\n",
    "\n",
    "evals = []\n",
    "for item in sf_evals_csv:\n",
    "    item.pop(0)\n",
    "    item = str(item)[2:-2].split()\n",
    "    evals.append(item)\n",
    "evals.pop(0)\n",
    "\n",
    "    "
   ]
  },
  {
   "cell_type": "code",
   "execution_count": 4,
   "metadata": {},
   "outputs": [
    {
     "name": "stdout",
     "output_type": "stream",
     "text": [
      "11998\n"
     ]
    }
   ],
   "source": [
    "\n",
    "\n",
    "elo_and_performance = []\n",
    "for i in range(5999):\n",
    "    pw = []\n",
    "    pb = []\n",
    "    current_game = chess.pgn.read_game(pgns)\n",
    "    try:\n",
    "        pw.append(float(current_game.headers[\"WhiteElo\"]))\n",
    "    except:\n",
    "        pw.append(0.0)\n",
    "    try:\n",
    "        pb.append(float(current_game.headers[\"BlackElo\"]))\n",
    "    except:\n",
    "        pb.append(0.0)\n",
    "    try:\n",
    "        pw.append(float(evals[i][0]))\n",
    "    except:\n",
    "        pw.append(0.0) \n",
    "    for j in range (len(evals[i])):\n",
    "        if j == 1:\n",
    "            continue\n",
    "        try:\n",
    "            move_value = float(evals[i][j]) - float(evals[i][j-1])\n",
    "        except:\n",
    "            move_value = 0.0\n",
    "        if j % 2 != 0: \n",
    "            pb.append(-move_value)\n",
    "        else:\n",
    "            pw.append(move_value)\n",
    "    elo_and_performance.append(pw)\n",
    "    elo_and_performance.append(pb)\n",
    "\n",
    "elo_and_performance = array(elo_and_performance)\n",
    "\n",
    "print(elo_and_performance.shape[0])\n"
   ]
  },
  {
   "cell_type": "code",
   "execution_count": 5,
   "metadata": {},
   "outputs": [
    {
     "name": "stderr",
     "output_type": "stream",
     "text": [
      "/anaconda3/lib/python3.6/site-packages/numpy/core/fromnumeric.py:2957: RuntimeWarning: Mean of empty slice.\n",
      "  out=out, **kwargs)\n",
      "/anaconda3/lib/python3.6/site-packages/numpy/core/_methods.py:80: RuntimeWarning: invalid value encountered in double_scalars\n",
      "  ret = ret.dtype.type(ret / rcount)\n",
      "/anaconda3/lib/python3.6/site-packages/numpy/core/_methods.py:135: RuntimeWarning: Degrees of freedom <= 0 for slice\n",
      "  keepdims=keepdims)\n",
      "/anaconda3/lib/python3.6/site-packages/numpy/core/_methods.py:105: RuntimeWarning: invalid value encountered in true_divide\n",
      "  arrmean, rcount, out=arrmean, casting='unsafe', subok=False)\n",
      "/anaconda3/lib/python3.6/site-packages/numpy/core/_methods.py:127: RuntimeWarning: invalid value encountered in double_scalars\n",
      "  ret = ret.dtype.type(ret / rcount)\n"
     ]
    },
    {
     "name": "stdout",
     "output_type": "stream",
     "text": [
      "(11998, 3)\n"
     ]
    }
   ],
   "source": [
    "data_points = []\n",
    "for item in elo_and_performance:\n",
    "    dp = []\n",
    "    \n",
    "    dp.append(item[0])\n",
    "    \n",
    "    arr = np.array(item[1:])\n",
    "    \n",
    "    average = np.mean(arr)\n",
    "    dp.append(average)\n",
    "    \n",
    "    std = np.std(arr)\n",
    "    dp.append(std)\n",
    "\n",
    "    \n",
    "    data_points.append(dp)\n",
    "\n",
    "data_points = array(data_points)\n",
    "np.set_printoptions(suppress=True)\n",
    "print(data_points.shape)"
   ]
  },
  {
   "cell_type": "code",
   "execution_count": 14,
   "metadata": {},
   "outputs": [],
   "source": [
    "group_data = []\n",
    "\n",
    "num_bins = 6\n",
    "\n",
    "bins = np.linspace(1000, 2500, num_bins)\n",
    "\n",
    "for bin in range (num_bins):\n",
    "    group_data_point = []\n",
    "    group_data_point.append(bins[bin])\n",
    "    min=1000.0+(300*bin)\n",
    "    group_count = 0\n",
    "    group_mean = []\n",
    "    group_std = []\n",
    "    for point in data_points:\n",
    "        if (point[0].item() > min) & (point[0].item() < min + 300):\n",
    "            group_count +=1\n",
    "            if not math.isnan(float(point[1])):\n",
    "                group_mean.append(point[1])\n",
    "            if not math.isnan(float(point[2])):\n",
    "                group_std.append(point[2])\n",
    "    group_mean = np.mean(array(group_mean))\n",
    "    group_std = np.mean(array(group_std))\n",
    "\n",
    "    if math.isnan(float(group_mean)):\n",
    "        print(group_mean)\n",
    "    if math.isnan(float(group_std)):\n",
    "        print(group_std)\n",
    "\n",
    "    group_data_point.append(group_mean)\n",
    "    group_data_point.append(group_std)\n",
    "    group_data.append(group_data_point)\n",
    "\n",
    "data = array(group_data)\n"
   ]
  },
  {
   "cell_type": "code",
   "execution_count": 42,
   "metadata": {},
   "outputs": [
    {
     "name": "stdout",
     "output_type": "stream",
     "text": [
      "Populating the interactive namespace from numpy and matplotlib\n",
      "6\n",
      "[1000, 1300, 1600, 1900, 2200, 2500]\n",
      "[-21.17041545531475, -54.60425995079057, -41.424429683170665, -31.464810213223757, -26.301167707127735, -21.739412101630823]\n"
     ]
    },
    {
     "name": "stderr",
     "output_type": "stream",
     "text": [
      "/anaconda3/lib/python3.6/site-packages/matplotlib/font_manager.py:1320: UserWarning: findfont: Font family ['normal'] not found. Falling back to DejaVu Sans\n",
      "  (prop.get_family(), self.defaultFamily[fontext]))\n"
     ]
    }
   ],
   "source": [
    " %pylab qt\n",
    "N = data.shape[0]\n",
    "print(N)\n",
    "elos = [int(el[0]) for el in data]\n",
    "means = [el[1] for el in data]\n",
    "stds = [el[2] for el in data]\n",
    "\n",
    "print(elos)\n",
    "print(means)\n",
    "\n",
    "\n",
    "\n",
    "### scaling for viewing\n",
    "means = [el*3.5 for el in means]\n",
    "\n",
    "font = {'family' : 'normal',\n",
    "        'weight' : 'normal',\n",
    "        'size'   : 20}\n",
    "matplotlib.rc('font', **font)\n",
    "\n",
    "ind = np.arange(N)  \n",
    "width = 0.35 \n",
    "\n",
    "fig, ax = plt.subplots()\n",
    "rects1 = ax.bar(ind, means, width, color='seagreen')\n",
    "rects2 = ax.bar(ind + width*.8, stds, width, color='darkslateblue')\n",
    "\n",
    "\n",
    "ax.set_ylabel('Values (scaled for viewing)')\n",
    "ax.set_xlabel('Elo bins ')\n",
    "\n",
    "ax.set_title('Features of evaluated moves')\n",
    "ax.set_xticks(ind + width / 2)\n",
    "ax.set_xticklabels(elos)\n",
    "\n",
    "plt.tick_params(left='off', labelleft='off')\n",
    "\n",
    "ax.legend((rects1[0], rects2[0]), ('Average move strength', 'Standard deviation of move strength'))\n",
    "\n",
    "\n",
    "plt.axhline(0, color='black')\n",
    "plt.show()"
   ]
  },
  {
   "cell_type": "code",
   "execution_count": null,
   "metadata": {},
   "outputs": [],
   "source": []
  },
  {
   "cell_type": "code",
   "execution_count": null,
   "metadata": {},
   "outputs": [],
   "source": []
  },
  {
   "cell_type": "code",
   "execution_count": 210,
   "metadata": {},
   "outputs": [],
   "source": [
    "handler = chess.uci.InfoHandler()\n",
    "engine = chess.uci.popen_engine(\"/Users/tylerahlstrom/Stockfish/src/Stockfish\")\n",
    "engine.info_handlers.append(handler)"
   ]
  },
  {
   "cell_type": "code",
   "execution_count": 211,
   "metadata": {},
   "outputs": [],
   "source": [
    "# engine.uci()\n",
    "engine.position(board)\n"
   ]
  },
  {
   "cell_type": "code",
   "execution_count": 89,
   "metadata": {},
   "outputs": [],
   "source": [
    "evaltime = 3000 #so 3 seconds\n",
    "evaluation = engine.go(movetime=evaltime)\n"
   ]
  },
  {
   "cell_type": "code",
   "execution_count": 90,
   "metadata": {},
   "outputs": [
    {
     "name": "stdout",
     "output_type": "stream",
     "text": [
      "best move:  e4\n",
      "evaluation value:  0.7\n",
      "Corresponding line:  1. e4\n"
     ]
    }
   ],
   "source": [
    "print 'best move: ', board.san(evaluation[0])\n",
    "print 'evaluation value: ', handler.info[\"score\"][1].cp/100.0\n",
    "print 'Corresponding line: ', board.variation_san(handler.info[\"pv\"][1])"
   ]
  },
  {
   "cell_type": "code",
   "execution_count": 91,
   "metadata": {},
   "outputs": [
    {
     "name": "stdout",
     "output_type": "stream",
     "text": [
      "['1309', '1384', -0.28]\n",
      "['1309', '1384', -0.28, 0.47]\n",
      "['1309', '1384', -0.28, 0.47, -0.17]\n",
      "['1309', '1384', -0.28, 0.47, -0.17, 0.29]\n",
      "['1309', '1384', -0.28, 0.47, -0.17, 0.29, -0.1]\n",
      "['1309', '1384', -0.28, 0.47, -0.17, 0.29, -0.1, 0.51]\n",
      "['1309', '1384', -0.28, 0.47, -0.17, 0.29, -0.1, 0.51, -0.22]\n",
      "['1309', '1384', -0.28, 0.47, -0.17, 0.29, -0.1, 0.51, -0.22, 1.14]\n",
      "['1309', '1384', -0.28, 0.47, -0.17, 0.29, -0.1, 0.51, -0.22, 1.14, -0.75]\n",
      "['1309', '1384', -0.28, 0.47, -0.17, 0.29, -0.1, 0.51, -0.22, 1.14, -0.75, 0.94]\n",
      "['1309', '1384', -0.28, 0.47, -0.17, 0.29, -0.1, 0.51, -0.22, 1.14, -0.75, 0.94, -0.8]\n",
      "['1309', '1384', -0.28, 0.47, -0.17, 0.29, -0.1, 0.51, -0.22, 1.14, -0.75, 0.94, -0.8, 1.17]\n",
      "['1309', '1384', -0.28, 0.47, -0.17, 0.29, -0.1, 0.51, -0.22, 1.14, -0.75, 0.94, -0.8, 1.17, -0.25]\n",
      "['1309', '1384', -0.28, 0.47, -0.17, 0.29, -0.1, 0.51, -0.22, 1.14, -0.75, 0.94, -0.8, 1.17, -0.25, 0.47]\n",
      "['1309', '1384', -0.28, 0.47, -0.17, 0.29, -0.1, 0.51, -0.22, 1.14, -0.75, 0.94, -0.8, 1.17, -0.25, 0.47, 0.4]\n",
      "['1309', '1384', -0.28, 0.47, -0.17, 0.29, -0.1, 0.51, -0.22, 1.14, -0.75, 0.94, -0.8, 1.17, -0.25, 0.47, 0.4, -0.05]\n",
      "['1309', '1384', -0.28, 0.47, -0.17, 0.29, -0.1, 0.51, -0.22, 1.14, -0.75, 0.94, -0.8, 1.17, -0.25, 0.47, 0.4, -0.05, 0.31]\n",
      "['1309', '1384', -0.28, 0.47, -0.17, 0.29, -0.1, 0.51, -0.22, 1.14, -0.75, 0.94, -0.8, 1.17, -0.25, 0.47, 0.4, -0.05, 0.31, 0.4]\n",
      "['1309', '1384', -0.28, 0.47, -0.17, 0.29, -0.1, 0.51, -0.22, 1.14, -0.75, 0.94, -0.8, 1.17, -0.25, 0.47, 0.4, -0.05, 0.31, 0.4, 0.48]\n",
      "['1309', '1384', -0.28, 0.47, -0.17, 0.29, -0.1, 0.51, -0.22, 1.14, -0.75, 0.94, -0.8, 1.17, -0.25, 0.47, 0.4, -0.05, 0.31, 0.4, 0.48, -0.09]\n",
      "['1309', '1384', -0.28, 0.47, -0.17, 0.29, -0.1, 0.51, -0.22, 1.14, -0.75, 0.94, -0.8, 1.17, -0.25, 0.47, 0.4, -0.05, 0.31, 0.4, 0.48, -0.09, 0.95]\n",
      "['1309', '1384', -0.28, 0.47, -0.17, 0.29, -0.1, 0.51, -0.22, 1.14, -0.75, 0.94, -0.8, 1.17, -0.25, 0.47, 0.4, -0.05, 0.31, 0.4, 0.48, -0.09, 0.95, -0.15]\n",
      "['1309', '1384', -0.28, 0.47, -0.17, 0.29, -0.1, 0.51, -0.22, 1.14, -0.75, 0.94, -0.8, 1.17, -0.25, 0.47, 0.4, -0.05, 0.31, 0.4, 0.48, -0.09, 0.95, -0.15, 0.61]\n",
      "['1309', '1384', -0.28, 0.47, -0.17, 0.29, -0.1, 0.51, -0.22, 1.14, -0.75, 0.94, -0.8, 1.17, -0.25, 0.47, 0.4, -0.05, 0.31, 0.4, 0.48, -0.09, 0.95, -0.15, 0.61, 1.0]\n",
      "['1309', '1384', -0.28, 0.47, -0.17, 0.29, -0.1, 0.51, -0.22, 1.14, -0.75, 0.94, -0.8, 1.17, -0.25, 0.47, 0.4, -0.05, 0.31, 0.4, 0.48, -0.09, 0.95, -0.15, 0.61, 1.0, -0.32]\n",
      "['1309', '1384', -0.28, 0.47, -0.17, 0.29, -0.1, 0.51, -0.22, 1.14, -0.75, 0.94, -0.8, 1.17, -0.25, 0.47, 0.4, -0.05, 0.31, 0.4, 0.48, -0.09, 0.95, -0.15, 0.61, 1.0, -0.32, 9.47]\n",
      "['1309', '1384', -0.28, 0.47, -0.17, 0.29, -0.1, 0.51, -0.22, 1.14, -0.75, 0.94, -0.8, 1.17, -0.25, 0.47, 0.4, -0.05, 0.31, 0.4, 0.48, -0.09, 0.95, -0.15, 0.61, 1.0, -0.32, 9.47, -9.52]\n",
      "['1309', '1384', -0.28, 0.47, -0.17, 0.29, -0.1, 0.51, -0.22, 1.14, -0.75, 0.94, -0.8, 1.17, -0.25, 0.47, 0.4, -0.05, 0.31, 0.4, 0.48, -0.09, 0.95, -0.15, 0.61, 1.0, -0.32, 9.47, -9.52, 9.7]\n",
      "['1309', '1384', -0.28, 0.47, -0.17, 0.29, -0.1, 0.51, -0.22, 1.14, -0.75, 0.94, -0.8, 1.17, -0.25, 0.47, 0.4, -0.05, 0.31, 0.4, 0.48, -0.09, 0.95, -0.15, 0.61, 1.0, -0.32, 9.47, -9.52, 9.7, -9.55]\n",
      "['1309', '1384', -0.28, 0.47, -0.17, 0.29, -0.1, 0.51, -0.22, 1.14, -0.75, 0.94, -0.8, 1.17, -0.25, 0.47, 0.4, -0.05, 0.31, 0.4, 0.48, -0.09, 0.95, -0.15, 0.61, 1.0, -0.32, 9.47, -9.52, 9.7, -9.55, 9.55]\n",
      "['1309', '1384', -0.28, 0.47, -0.17, 0.29, -0.1, 0.51, -0.22, 1.14, -0.75, 0.94, -0.8, 1.17, -0.25, 0.47, 0.4, -0.05, 0.31, 0.4, 0.48, -0.09, 0.95, -0.15, 0.61, 1.0, -0.32, 9.47, -9.52, 9.7, -9.55, 9.55, -9.56]\n",
      "['1309', '1384', -0.28, 0.47, -0.17, 0.29, -0.1, 0.51, -0.22, 1.14, -0.75, 0.94, -0.8, 1.17, -0.25, 0.47, 0.4, -0.05, 0.31, 0.4, 0.48, -0.09, 0.95, -0.15, 0.61, 1.0, -0.32, 9.47, -9.52, 9.7, -9.55, 9.55, -9.56, 10.4]\n",
      "['1309', '1384', -0.28, 0.47, -0.17, 0.29, -0.1, 0.51, -0.22, 1.14, -0.75, 0.94, -0.8, 1.17, -0.25, 0.47, 0.4, -0.05, 0.31, 0.4, 0.48, -0.09, 0.95, -0.15, 0.61, 1.0, -0.32, 9.47, -9.52, 9.7, -9.55, 9.55, -9.56, 10.4, -10.22]\n",
      "['1309', '1384', -0.28, 0.47, -0.17, 0.29, -0.1, 0.51, -0.22, 1.14, -0.75, 0.94, -0.8, 1.17, -0.25, 0.47, 0.4, -0.05, 0.31, 0.4, 0.48, -0.09, 0.95, -0.15, 0.61, 1.0, -0.32, 9.47, -9.52, 9.7, -9.55, 9.55, -9.56, 10.4, -10.22, 10.42]\n",
      "['1309', '1384', -0.28, 0.47, -0.17, 0.29, -0.1, 0.51, -0.22, 1.14, -0.75, 0.94, -0.8, 1.17, -0.25, 0.47, 0.4, -0.05, 0.31, 0.4, 0.48, -0.09, 0.95, -0.15, 0.61, 1.0, -0.32, 9.47, -9.52, 9.7, -9.55, 9.55, -9.56, 10.4, -10.22, 10.42, -10.33]\n",
      "['1309', '1384', -0.28, 0.47, -0.17, 0.29, -0.1, 0.51, -0.22, 1.14, -0.75, 0.94, -0.8, 1.17, -0.25, 0.47, 0.4, -0.05, 0.31, 0.4, 0.48, -0.09, 0.95, -0.15, 0.61, 1.0, -0.32, 9.47, -9.52, 9.7, -9.55, 9.55, -9.56, 10.4, -10.22, 10.42, -10.33, 10.83]\n",
      "['1309', '1384', -0.28, 0.47, -0.17, 0.29, -0.1, 0.51, -0.22, 1.14, -0.75, 0.94, -0.8, 1.17, -0.25, 0.47, 0.4, -0.05, 0.31, 0.4, 0.48, -0.09, 0.95, -0.15, 0.61, 1.0, -0.32, 9.47, -9.52, 9.7, -9.55, 9.55, -9.56, 10.4, -10.22, 10.42, -10.33, 10.83, -10.36]\n",
      "['1309', '1384', -0.28, 0.47, -0.17, 0.29, -0.1, 0.51, -0.22, 1.14, -0.75, 0.94, -0.8, 1.17, -0.25, 0.47, 0.4, -0.05, 0.31, 0.4, 0.48, -0.09, 0.95, -0.15, 0.61, 1.0, -0.32, 9.47, -9.52, 9.7, -9.55, 9.55, -9.56, 10.4, -10.22, 10.42, -10.33, 10.83, -10.36, 11.89]\n",
      "['1309', '1384', -0.28, 0.47, -0.17, 0.29, -0.1, 0.51, -0.22, 1.14, -0.75, 0.94, -0.8, 1.17, -0.25, 0.47, 0.4, -0.05, 0.31, 0.4, 0.48, -0.09, 0.95, -0.15, 0.61, 1.0, -0.32, 9.47, -9.52, 9.7, -9.55, 9.55, -9.56, 10.4, -10.22, 10.42, -10.33, 10.83, -10.36, 11.89, -11.91]\n",
      "['1309', '1384', -0.28, 0.47, -0.17, 0.29, -0.1, 0.51, -0.22, 1.14, -0.75, 0.94, -0.8, 1.17, -0.25, 0.47, 0.4, -0.05, 0.31, 0.4, 0.48, -0.09, 0.95, -0.15, 0.61, 1.0, -0.32, 9.47, -9.52, 9.7, -9.55, 9.55, -9.56, 10.4, -10.22, 10.42, -10.33, 10.83, -10.36, 11.89, -11.91, 15.52]\n",
      "['1309', '1384', -0.28, 0.47, -0.17, 0.29, -0.1, 0.51, -0.22, 1.14, -0.75, 0.94, -0.8, 1.17, -0.25, 0.47, 0.4, -0.05, 0.31, 0.4, 0.48, -0.09, 0.95, -0.15, 0.61, 1.0, -0.32, 9.47, -9.52, 9.7, -9.55, 9.55, -9.56, 10.4, -10.22, 10.42, -10.33, 10.83, -10.36, 11.89, -11.91, 15.52, -15.8]\n"
     ]
    },
    {
     "ename": "TypeError",
     "evalue": "unsupported operand type(s) for /: 'NoneType' and 'float'",
     "output_type": "error",
     "traceback": [
      "\u001b[0;31m---------------------------------------------------------------------------\u001b[0m",
      "\u001b[0;31mTypeError\u001b[0m                                 Traceback (most recent call last)",
      "\u001b[0;32m<ipython-input-91-493c05b0926d>\u001b[0m in \u001b[0;36m<module>\u001b[0;34m()\u001b[0m\n\u001b[1;32m      9\u001b[0m     \u001b[0mengine\u001b[0m\u001b[0;34m.\u001b[0m\u001b[0mposition\u001b[0m\u001b[0;34m(\u001b[0m\u001b[0mboard\u001b[0m\u001b[0;34m)\u001b[0m\u001b[0;34m\u001b[0m\u001b[0m\n\u001b[1;32m     10\u001b[0m     \u001b[0mevaluation\u001b[0m \u001b[0;34m=\u001b[0m \u001b[0mengine\u001b[0m\u001b[0;34m.\u001b[0m\u001b[0mgo\u001b[0m\u001b[0;34m(\u001b[0m\u001b[0mmovetime\u001b[0m\u001b[0;34m=\u001b[0m\u001b[0mevaltime\u001b[0m\u001b[0;34m)\u001b[0m\u001b[0;34m\u001b[0m\u001b[0m\n\u001b[0;32m---> 11\u001b[0;31m     \u001b[0mscore\u001b[0m \u001b[0;34m=\u001b[0m \u001b[0mhandler\u001b[0m\u001b[0;34m.\u001b[0m\u001b[0minfo\u001b[0m\u001b[0;34m[\u001b[0m\u001b[0;34m\"score\"\u001b[0m\u001b[0;34m]\u001b[0m\u001b[0;34m[\u001b[0m\u001b[0;36m1\u001b[0m\u001b[0;34m]\u001b[0m\u001b[0;34m.\u001b[0m\u001b[0mcp\u001b[0m\u001b[0;34m/\u001b[0m\u001b[0;36m100.0\u001b[0m\u001b[0;34m\u001b[0m\u001b[0m\n\u001b[0m\u001b[1;32m     12\u001b[0m     \u001b[0mdif\u001b[0m \u001b[0;34m=\u001b[0m \u001b[0mprev_score\u001b[0m \u001b[0;34m-\u001b[0m \u001b[0mscore\u001b[0m\u001b[0;34m\u001b[0m\u001b[0m\n\u001b[1;32m     13\u001b[0m     \u001b[0;31m#performance.append(\"%.2f\" % dif)\u001b[0m\u001b[0;34m\u001b[0m\u001b[0;34m\u001b[0m\u001b[0m\n",
      "\u001b[0;31mTypeError\u001b[0m: unsupported operand type(s) for /: 'NoneType' and 'float'"
     ]
    }
   ],
   "source": [
    "performance = []\n",
    "performance.append(current_game.headers[\"WhiteElo\"])\n",
    "performance.append(current_game.headers[\"BlackElo\"])\n",
    "evaluation = engine.go(movetime=evaltime)\n",
    "score = handler.info[\"score\"][1].cp/100.0\n",
    "prev_score = score\n",
    "for move in current_game.main_line():\n",
    "    board.push(move)\n",
    "    engine.position(board)\n",
    "    evaluation = engine.go(movetime=evaltime)\n",
    "    score = handler.info[\"score\"][1].cp/100.0\n",
    "    dif = prev_score - score\n",
    "    #performance.append(\"%.2f\" % dif)\n",
    "    performance.append(score)\n",
    "    prev_score = score\n",
    "    print (performance)"
   ]
  },
  {
   "cell_type": "code",
   "execution_count": 99,
   "metadata": {},
   "outputs": [
    {
     "name": "stdout",
     "output_type": "stream",
     "text": [
      "2723\n"
     ]
    }
   ],
   "source": [
    "performance = []\n",
    "performance.append(current_game.headers[\"WhiteElo\"])\n",
    "performance.append(current_game.headers[\"BlackElo\"])\n",
    "\n",
    "engine.go(movetime=evaltime)\n",
    "evaluation = handler.info[\"score\"][1].cp/100.0\n",
    "prev_eval = evaluation\n",
    "for move in current_game.main_line():\n",
    "    board.push(move)\n",
    "    engine.position(board)\n",
    "    engine.go(movetime=evaltime)\n",
    "    evaluation = handler.info[\"score\"][1].cp/100.0\n",
    "    \n",
    "    print 'evaluation value: ', handler.info[\"score\"][1].cp/100.0"
   ]
  },
  {
   "cell_type": "code",
   "execution_count": null,
   "metadata": {},
   "outputs": [],
   "source": []
  }
 ],
 "metadata": {
  "kernelspec": {
   "display_name": "Python 3",
   "language": "python",
   "name": "python3"
  },
  "language_info": {
   "codemirror_mode": {
    "name": "ipython",
    "version": 3
   },
   "file_extension": ".py",
   "mimetype": "text/x-python",
   "name": "python",
   "nbconvert_exporter": "python",
   "pygments_lexer": "ipython3",
   "version": "3.6.4"
  }
 },
 "nbformat": 4,
 "nbformat_minor": 2
}
